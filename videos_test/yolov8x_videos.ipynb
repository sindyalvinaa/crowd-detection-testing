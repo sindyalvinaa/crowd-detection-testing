{
 "cells": [
  {
   "cell_type": "code",
   "execution_count": 1,
   "metadata": {},
   "outputs": [
    {
     "name": "stdout",
     "output_type": "stream",
     "text": [
      "Ultralytics YOLOv8.2.28 🚀 Python-3.8.19 torch-2.2.2 CPU (Intel Core(TM) i7-3520M 2.90GHz)\n",
      "Setup complete ✅ (4 CPUs, 8.0 GB RAM, 101.2/465.6 GB disk)\n"
     ]
    }
   ],
   "source": [
    "%pip install ultralytics\n",
    "import ultralytics\n",
    "ultralytics.checks()"
   ]
  },
  {
   "cell_type": "code",
   "execution_count": 2,
   "metadata": {},
   "outputs": [],
   "source": [
    "import cv2\n",
    "from ultralytics import YOLO\n",
    "import numpy as np\n",
    "import time\n",
    "import pandas as pd"
   ]
  },
  {
   "cell_type": "code",
   "execution_count": 3,
   "metadata": {},
   "outputs": [],
   "source": [
    "# Load model and mask\n",
    "model = YOLO(\"/Users/macbook/Pengujian/videos_models/yolov8x.pt\")\n",
    "mask = cv2.imread(\"/Users/macbook/Pengujian/datasets_test/mask.jpg\", cv2.IMREAD_GRAYSCALE)"
   ]
  },
  {
   "cell_type": "code",
   "execution_count": 4,
   "metadata": {},
   "outputs": [],
   "source": [
    "# Class names for YOLOv8 model (adjust according to your model's classes)\n",
    "class_names = {0: \"car\", 1: \"motorcycle\", 2: \"person\"}\n",
    "\n",
    "# Function to draw bounding boxes with different colors for each class\n",
    "def draw_boxes(result, frame):\n",
    "    blank = np.zeros(frame.shape, dtype=np.uint8)\n",
    "    image = frame.copy()\n",
    "    for box in result.boxes:\n",
    "        x1, y1, x2, y2 = [round(x) for x in box.xyxy[0].tolist()]\n",
    "        conf = box.conf[0]  # Confidence score\n",
    "        cls = int(box.cls[0])  # Class label\n",
    "        \n",
    "        # Assign colors based on class\n",
    "        if cls == 0:  # car\n",
    "            color = (0, 255, 0)  # Green\n",
    "        elif cls == 1:  # motorcycle\n",
    "            color = (0, 0, 255)  # Red\n",
    "        elif cls == 2:  # person\n",
    "            color = (255, 0, 0)  # Blue\n",
    "        else:\n",
    "            color = (255, 255, 255)  # Default to white if class not recognized\n",
    "        \n",
    "        label = f\"{class_names.get(cls, 'unknown')}: {conf:.2f}\"\n",
    "        cv2.rectangle(image, (x1, y1), (x2, y2), color, 1)\n",
    "        cv2.putText(image, label, (x1, y1 - 10), cv2.FONT_HERSHEY_SIMPLEX, 0.5, color, 2)\n",
    "        cv2.rectangle(blank, (x1, y1), (x2, y2), (255, 255, 255), -1)\n",
    "    blank = cv2.bitwise_and(blank, blank, mask=mask)\n",
    "    blank = cv2.cvtColor(blank, cv2.COLOR_BGR2GRAY)\n",
    "    return blank, image\n",
    "\n",
    "# Detection function\n",
    "def detect(frame, threshold=30):\n",
    "    masked = cv2.bitwise_and(frame, frame, mask=mask)\n",
    "    result = model(masked, conf=0.25, verbose=False)\n",
    "    area, image = draw_boxes(result[0], frame)\n",
    "    percentage = round((np.sum(area) / np.sum(mask)) * 100, 2)\n",
    "    label = \"ramai\" if percentage > threshold else \"tidak ramai\"\n",
    "    return area, percentage, label, image\n",
    "\n",
    "# Video processing function\n",
    "def process_video(video_path, threshold=30, log_path=\"yolov8x_log_data.csv\"):\n",
    "    cap = cv2.VideoCapture(video_path)\n",
    "    if not cap.isOpened():\n",
    "        print(\"Error: Could not open video.\")\n",
    "        return\n",
    "\n",
    "    # Get video properties\n",
    "    fps = cap.get(cv2.CAP_PROP_FPS)\n",
    "    width = int(cap.get(cv2.CAP_PROP_FRAME_WIDTH))\n",
    "    height = int(cap.get(cv2.CAP_PROP_FRAME_HEIGHT))\n",
    "    out = cv2.VideoWriter(\"/Users/macbook/Pengujian/videos/yolov8x_videos.mp4\",\n",
    "                          cv2.VideoWriter_fourcc(*'mp4v'), fps, (width, height))\n",
    "\n",
    "    start_time = time.time()\n",
    "\n",
    "    # List to store log data\n",
    "    log_data = []\n",
    "\n",
    "    frame_count = 0\n",
    "    while cap.isOpened():\n",
    "        ret, frame = cap.read()\n",
    "        if not ret:\n",
    "            break\n",
    "\n",
    "        frame_count += 1\n",
    "        area, percentage, kondisi, processed_frame = detect(frame, threshold)\n",
    "        elapsed_time = time.time() - start_time\n",
    "\n",
    "        # Overlay text information on frame\n",
    "        cv2.rectangle(processed_frame, (0, 0), (200, 60), (0, 0, 0), -1)\n",
    "        cv2.putText(processed_frame, f\"Area: {percentage}%\", (10, 20), cv2.FONT_HERSHEY_SIMPLEX, 0.6, (255, 255, 255), 1)\n",
    "        cv2.putText(processed_frame, f\"FPS: {1 / elapsed_time:.2f}\", (10, 40), cv2.FONT_HERSHEY_SIMPLEX, 0.6, (255, 255, 255), 1)\n",
    "        cv2.putText(processed_frame, f\"Kondisi: {kondisi}\", (10, 60), cv2.FONT_HERSHEY_SIMPLEX, 0.6, (255, 255, 255), 1)\n",
    "\n",
    "        out.write(processed_frame)\n",
    "        start_time = time.time()\n",
    "\n",
    "        # Store log data\n",
    "        log_data.append([frame_count, elapsed_time, percentage, kondisi])\n",
    "\n",
    "        # Display frame\n",
    "        cv2.imshow(\"Video\", processed_frame)\n",
    "        if cv2.waitKey(1) & 0xFF == ord('q'):\n",
    "            break\n",
    "\n",
    "    cap.release()\n",
    "    out.release()\n",
    "    cv2.destroyAllWindows()\n",
    "\n",
    "    # Save log data to CSV\n",
    "    log_df = pd.DataFrame(log_data, columns=[\"Frame\", \"Elapsed Time (s)\", \"Area (%)\", \"Kondisi\"])\n",
    "    log_df.to_csv(log_path, index=False)"
   ]
  },
  {
   "cell_type": "code",
   "execution_count": 5,
   "metadata": {},
   "outputs": [
    {
     "name": "stderr",
     "output_type": "stream",
     "text": [
      "[W NNPACK.cpp:64] Could not initialize NNPACK! Reason: Unsupported hardware.\n"
     ]
    }
   ],
   "source": [
    "# Run the video processing function on your video file\n",
    "video_path = \"/Users/macbook/Pengujian/videos/videos.mp4\"\n",
    "process_video(video_path, threshold=30, log_path=\"/Users/macbook/Pengujian/videos_result/yolov8x_log_data.csv\")"
   ]
  }
 ],
 "metadata": {
  "kernelspec": {
   "display_name": "skripsi",
   "language": "python",
   "name": "python3"
  },
  "language_info": {
   "codemirror_mode": {
    "name": "ipython",
    "version": 3
   },
   "file_extension": ".py",
   "mimetype": "text/x-python",
   "name": "python",
   "nbconvert_exporter": "python",
   "pygments_lexer": "ipython3",
   "version": "3.8.19"
  }
 },
 "nbformat": 4,
 "nbformat_minor": 2
}
